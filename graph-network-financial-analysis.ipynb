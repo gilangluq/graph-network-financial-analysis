{
 "cells": [
  {
   "cell_type": "code",
   "execution_count": 1,
   "metadata": {},
   "outputs": [],
   "source": [
    "##########################################\n",
    "# General helper functions and libraries #\n",
    "##########################################\n",
    "\n",
    "# General data libs\n",
    "import pandas as pd\n",
    "import numpy as np\n",
    "\n",
    "# General plotting libs\n",
    "import matplotlib.pyplot as plt\n",
    "import matplotlib.cm as cm\n",
    "from matplotlib import animation\n",
    "import plotly.express as px\n",
    "import seaborn as sns\n",
    "\n",
    "####################\n",
    "# Modeling process #\n",
    "####################\n",
    "\n",
    "# Networks\n",
    "import networkx as nx\n",
    "from pyvis.network import Network\n",
    "from community import community_louvain"
   ]
  },
  {
   "cell_type": "code",
   "execution_count": 2,
   "metadata": {},
   "outputs": [
    {
     "data": {
      "text/plain": [
       "(174575, 151)"
      ]
     },
     "execution_count": 2,
     "metadata": {},
     "output_type": "execute_result"
    }
   ],
   "source": [
    "# Based on: https://www.bis.org/statistics/r_qa1406_hanx9b.pdf\n",
    "# Originally from \"Consolidated Banking Statistics, Updated 27 July 2023\" described at: https://www.bis.org/statistics/consstats.htm\n",
    "# Full set here: https://www.bis.org/statistics/full_data_sets.htm\n",
    "# Retrieved on 13 Oct\n",
    "\n",
    "# File, will take ~15sec to load\n",
    "df = pd.DataFrame(pd.read_csv('https://storage.googleapis.com/suptech-lab-practical-data-science-public/WS_CBS_PUB_csv_col.csv'))\n",
    "df.shape"
   ]
  },
  {
   "cell_type": "code",
   "execution_count": 3,
   "metadata": {},
   "outputs": [
    {
     "data": {
      "text/plain": [
       "Index(['FREQ', 'Frequency', 'L_MEASURE', 'Measure', 'L_REP_CTY',\n",
       "       'Reporting country', 'CBS_BANK_TYPE', 'CBS bank type', 'CBS_BASIS',\n",
       "       'CBS reporting basis',\n",
       "       ...\n",
       "       '2020-Q4', '2021-Q1', '2021-Q2', '2021-Q3', '2021-Q4', '2022-Q1',\n",
       "       '2022-Q2', '2022-Q3', '2022-Q4', '2023-Q1'],\n",
       "      dtype='object', length=151)"
      ]
     },
     "execution_count": 3,
     "metadata": {},
     "output_type": "execute_result"
    }
   ],
   "source": [
    "df.columns"
   ]
  },
  {
   "cell_type": "code",
   "execution_count": 4,
   "metadata": {},
   "outputs": [
    {
     "data": {
      "text/plain": [
       "{'Guarantor basis',\n",
       " 'Immediate counterparty basis',\n",
       " 'Net risk transfers (Inward-Outward)',\n",
       " 'Outward risk transfers'}"
      ]
     },
     "execution_count": 4,
     "metadata": {},
     "output_type": "execute_result"
    }
   ],
   "source": [
    "# Immediate borrower basis\n",
    "set(df['CBS reporting basis'])"
   ]
  },
  {
   "cell_type": "code",
   "execution_count": 5,
   "metadata": {},
   "outputs": [
    {
     "data": {
      "text/plain": [
       "{'Amounts outstanding / Stocks'}"
      ]
     },
     "execution_count": 5,
     "metadata": {},
     "output_type": "execute_result"
    }
   ],
   "source": [
    "# Amounts outstanding\n",
    "set(df['Measure'])"
   ]
  },
  {
   "cell_type": "code",
   "execution_count": 6,
   "metadata": {},
   "outputs": [
    {
     "data": {
      "text/plain": [
       "{'Over 1 year and up to and including 2 years',\n",
       " 'Over 2 years',\n",
       " 'Total (all maturities)',\n",
       " 'Up to and including 1 year'}"
      ]
     },
     "execution_count": 6,
     "metadata": {},
     "output_type": "execute_result"
    }
   ],
   "source": [
    "set(df['Remaining maturity'])"
   ]
  },
  {
   "cell_type": "code",
   "execution_count": 7,
   "metadata": {},
   "outputs": [
    {
     "data": {
      "text/html": [
       "<div>\n",
       "<style scoped>\n",
       "    .dataframe tbody tr th:only-of-type {\n",
       "        vertical-align: middle;\n",
       "    }\n",
       "\n",
       "    .dataframe tbody tr th {\n",
       "        vertical-align: top;\n",
       "    }\n",
       "\n",
       "    .dataframe thead th {\n",
       "        text-align: right;\n",
       "    }\n",
       "</style>\n",
       "<table border=\"1\" class=\"dataframe\">\n",
       "  <thead>\n",
       "    <tr style=\"text-align: right;\">\n",
       "      <th></th>\n",
       "      <th>Reporting country</th>\n",
       "      <th>Counterparty country</th>\n",
       "      <th>2013-Q4</th>\n",
       "      <th>2014-Q4</th>\n",
       "      <th>2015-Q4</th>\n",
       "      <th>2016-Q4</th>\n",
       "      <th>2017-Q4</th>\n",
       "    </tr>\n",
       "  </thead>\n",
       "  <tbody>\n",
       "    <tr>\n",
       "      <th>113</th>\n",
       "      <td>Australia</td>\n",
       "      <td>Chad</td>\n",
       "      <td>0.008</td>\n",
       "      <td>0.741</td>\n",
       "      <td>0.301</td>\n",
       "      <td>NaN</td>\n",
       "      <td>NaN</td>\n",
       "    </tr>\n",
       "    <tr>\n",
       "      <th>172</th>\n",
       "      <td>Switzerland</td>\n",
       "      <td>Chad</td>\n",
       "      <td>2.028</td>\n",
       "      <td>18.635</td>\n",
       "      <td>0.212</td>\n",
       "      <td>0.021</td>\n",
       "      <td>0.013</td>\n",
       "    </tr>\n",
       "    <tr>\n",
       "      <th>234</th>\n",
       "      <td>France</td>\n",
       "      <td>Chad</td>\n",
       "      <td>383.000</td>\n",
       "      <td>662.000</td>\n",
       "      <td>525.000</td>\n",
       "      <td>465.000</td>\n",
       "      <td>491.000</td>\n",
       "    </tr>\n",
       "    <tr>\n",
       "      <th>424</th>\n",
       "      <td>United States</td>\n",
       "      <td>Chad</td>\n",
       "      <td>35.000</td>\n",
       "      <td>46.000</td>\n",
       "      <td>44.000</td>\n",
       "      <td>38.000</td>\n",
       "      <td>39.000</td>\n",
       "    </tr>\n",
       "    <tr>\n",
       "      <th>513</th>\n",
       "      <td>Austria</td>\n",
       "      <td>Germany</td>\n",
       "      <td>39068.469</td>\n",
       "      <td>37377.994</td>\n",
       "      <td>37690.878</td>\n",
       "      <td>35869.525</td>\n",
       "      <td>42703.591</td>\n",
       "    </tr>\n",
       "    <tr>\n",
       "      <th>...</th>\n",
       "      <td>...</td>\n",
       "      <td>...</td>\n",
       "      <td>...</td>\n",
       "      <td>...</td>\n",
       "      <td>...</td>\n",
       "      <td>...</td>\n",
       "      <td>...</td>\n",
       "    </tr>\n",
       "    <tr>\n",
       "      <th>174270</th>\n",
       "      <td>Denmark</td>\n",
       "      <td>Djibouti</td>\n",
       "      <td>1.000</td>\n",
       "      <td>1.000</td>\n",
       "      <td>1.000</td>\n",
       "      <td>1.000</td>\n",
       "      <td>1.000</td>\n",
       "    </tr>\n",
       "    <tr>\n",
       "      <th>174303</th>\n",
       "      <td>France</td>\n",
       "      <td>Djibouti</td>\n",
       "      <td>30.000</td>\n",
       "      <td>58.000</td>\n",
       "      <td>10.000</td>\n",
       "      <td>14.000</td>\n",
       "      <td>12.000</td>\n",
       "    </tr>\n",
       "    <tr>\n",
       "      <th>174335</th>\n",
       "      <td>United Kingdom</td>\n",
       "      <td>Djibouti</td>\n",
       "      <td>21.000</td>\n",
       "      <td>17.000</td>\n",
       "      <td>12.000</td>\n",
       "      <td>6.000</td>\n",
       "      <td>NaN</td>\n",
       "    </tr>\n",
       "    <tr>\n",
       "      <th>174490</th>\n",
       "      <td>Sweden</td>\n",
       "      <td>Djibouti</td>\n",
       "      <td>18.168</td>\n",
       "      <td>15.395</td>\n",
       "      <td>7.716</td>\n",
       "      <td>1.542</td>\n",
       "      <td>0.351</td>\n",
       "    </tr>\n",
       "    <tr>\n",
       "      <th>174543</th>\n",
       "      <td>Chinese Taipei</td>\n",
       "      <td>Djibouti</td>\n",
       "      <td>88.000</td>\n",
       "      <td>76.000</td>\n",
       "      <td>NaN</td>\n",
       "      <td>NaN</td>\n",
       "      <td>NaN</td>\n",
       "    </tr>\n",
       "  </tbody>\n",
       "</table>\n",
       "<p>2674 rows × 7 columns</p>\n",
       "</div>"
      ],
      "text/plain": [
       "       Reporting country Counterparty country    2013-Q4    2014-Q4  \\\n",
       "113            Australia                 Chad      0.008      0.741   \n",
       "172          Switzerland                 Chad      2.028     18.635   \n",
       "234               France                 Chad    383.000    662.000   \n",
       "424        United States                 Chad     35.000     46.000   \n",
       "513              Austria              Germany  39068.469  37377.994   \n",
       "...                  ...                  ...        ...        ...   \n",
       "174270           Denmark             Djibouti      1.000      1.000   \n",
       "174303            France             Djibouti     30.000     58.000   \n",
       "174335    United Kingdom             Djibouti     21.000     17.000   \n",
       "174490            Sweden             Djibouti     18.168     15.395   \n",
       "174543    Chinese Taipei             Djibouti     88.000     76.000   \n",
       "\n",
       "          2015-Q4    2016-Q4    2017-Q4  \n",
       "113         0.301        NaN        NaN  \n",
       "172         0.212      0.021      0.013  \n",
       "234       525.000    465.000    491.000  \n",
       "424        44.000     38.000     39.000  \n",
       "513     37690.878  35869.525  42703.591  \n",
       "...           ...        ...        ...  \n",
       "174270      1.000      1.000      1.000  \n",
       "174303     10.000     14.000     12.000  \n",
       "174335     12.000      6.000        NaN  \n",
       "174490      7.716      1.542      0.351  \n",
       "174543        NaN        NaN        NaN  \n",
       "\n",
       "[2674 rows x 7 columns]"
      ]
     },
     "execution_count": 7,
     "metadata": {},
     "output_type": "execute_result"
    }
   ],
   "source": [
    "# List the columns we want to keep\n",
    "cols = [\n",
    "  'Reporting country',\n",
    "  'Counterparty country',\n",
    "  '2013-Q4',\n",
    "  '2014-Q4',\n",
    "  '2015-Q4',\n",
    "  '2016-Q4',\n",
    "  '2017-Q4'\n",
    "]\n",
    "\n",
    "# 1. Make a copy of the original dataframe\n",
    "# 2. Filter only for the rows we want\n",
    "# 3. Keep only the columns we want\n",
    "df1 = df.copy(deep=True)\n",
    "df1 = df1[(df1['CBS bank type']==\"Domestic banks\")\n",
    "      & (df1['CBS reporting basis']==\"Immediate counterparty basis\")\n",
    "      & (df1['Balance sheet position']==\"Total claims\")\n",
    "      & (df1['Remaining maturity']==\"Total (all maturities)\")]\n",
    "df1 = df1[cols]\n",
    "\n",
    "# Drop the rows containing global aggregates\n",
    "df1 = df1[(df1['Reporting country']!=\"All reporting countries\") & (df1['Counterparty country']!=\"All reporting countries\") &\n",
    "         (df1['Counterparty country']!='All countries (total)') & (df1['Counterparty country']!='All countries excluding residents') &\n",
    "         (df1['Counterparty country']!='International organisations') & (df1['Counterparty country']!='International organisations') &\n",
    "         (df1['Counterparty country']!='Residents/Local') & (df1['Counterparty country']!='Residents/Local') &\n",
    "         (df1['Counterparty country']!='Euro area') & (df1['Counterparty country']!='Euro area')]\n",
    "\n",
    "# Only those who have recorded financial data for the quarter we're looking at\n",
    "df1 = df1[pd.notnull(df1['2013-Q4'])]\n",
    "\n",
    "df1\n"
   ]
  },
  {
   "cell_type": "code",
   "execution_count": 8,
   "metadata": {},
   "outputs": [
    {
     "data": {
      "text/plain": [
       "{'Australia',\n",
       " 'Austria',\n",
       " 'Belgium',\n",
       " 'Brazil',\n",
       " 'Canada',\n",
       " 'Chile',\n",
       " 'Chinese Taipei',\n",
       " 'Denmark',\n",
       " 'Finland',\n",
       " 'France',\n",
       " 'Germany',\n",
       " 'Greece',\n",
       " 'Ireland',\n",
       " 'Italy',\n",
       " 'Japan',\n",
       " 'Korea',\n",
       " 'Mexico',\n",
       " 'Netherlands',\n",
       " 'Panama',\n",
       " 'Portugal',\n",
       " 'Spain',\n",
       " 'Sweden',\n",
       " 'Switzerland',\n",
       " 'Türkiye',\n",
       " 'United Kingdom',\n",
       " 'United States'}"
      ]
     },
     "execution_count": 8,
     "metadata": {},
     "output_type": "execute_result"
    }
   ],
   "source": [
    "set(df1['Reporting country'])"
   ]
  },
  {
   "cell_type": "code",
   "execution_count": 9,
   "metadata": {},
   "outputs": [
    {
     "name": "stdout",
     "output_type": "stream",
     "text": [
      "Nodes: 215 Edges: 2674\n"
     ]
    }
   ],
   "source": [
    "# Add nodes\n",
    "G = nx.from_pandas_edgelist(df1, 'Reporting country', 'Counterparty country', edge_attr=True, create_using=nx.DiGraph)\n",
    "print(\"Nodes:\", len(G.nodes()), \"Edges:\", len(G.edges()))"
   ]
  }
 ],
 "metadata": {
  "kernelspec": {
   "display_name": "Python 3",
   "language": "python",
   "name": "python3"
  },
  "language_info": {
   "codemirror_mode": {
    "name": "ipython",
    "version": 3
   },
   "file_extension": ".py",
   "mimetype": "text/x-python",
   "name": "python",
   "nbconvert_exporter": "python",
   "pygments_lexer": "ipython3",
   "version": "3.11.9"
  }
 },
 "nbformat": 4,
 "nbformat_minor": 2
}
