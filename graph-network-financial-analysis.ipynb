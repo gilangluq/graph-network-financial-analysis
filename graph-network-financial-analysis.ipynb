{
 "cells": [
  {
   "cell_type": "code",
   "execution_count": 1,
   "metadata": {},
   "outputs": [],
   "source": [
    "##########################################\n",
    "# General helper functions and libraries #\n",
    "##########################################\n",
    "\n",
    "# General data libs\n",
    "import pandas as pd\n",
    "import numpy as np\n",
    "\n",
    "# General plotting libs\n",
    "import matplotlib.pyplot as plt\n",
    "import matplotlib.cm as cm\n",
    "from matplotlib import animation\n",
    "import plotly.express as px\n",
    "import seaborn as sns\n",
    "\n",
    "####################\n",
    "# Modeling process #\n",
    "####################\n",
    "\n",
    "# Networks\n",
    "import networkx as nx\n",
    "from pyvis.network import Network\n",
    "from community import community_louvain"
   ]
  },
  {
   "cell_type": "code",
   "execution_count": 2,
   "metadata": {},
   "outputs": [
    {
     "data": {
      "text/plain": [
       "(174575, 151)"
      ]
     },
     "execution_count": 2,
     "metadata": {},
     "output_type": "execute_result"
    }
   ],
   "source": [
    "# Based on: https://www.bis.org/statistics/r_qa1406_hanx9b.pdf\n",
    "# Originally from \"Consolidated Banking Statistics, Updated 27 July 2023\" described at: https://www.bis.org/statistics/consstats.htm\n",
    "# Full set here: https://www.bis.org/statistics/full_data_sets.htm\n",
    "# Retrieved on 13 Oct\n",
    "\n",
    "# File, will take ~15sec to load\n",
    "df = pd.DataFrame(pd.read_csv('https://storage.googleapis.com/suptech-lab-practical-data-science-public/WS_CBS_PUB_csv_col.csv'))\n",
    "df.shape"
   ]
  },
  {
   "cell_type": "code",
   "execution_count": 3,
   "metadata": {},
   "outputs": [
    {
     "data": {
      "text/plain": [
       "Index(['FREQ', 'Frequency', 'L_MEASURE', 'Measure', 'L_REP_CTY',\n",
       "       'Reporting country', 'CBS_BANK_TYPE', 'CBS bank type', 'CBS_BASIS',\n",
       "       'CBS reporting basis',\n",
       "       ...\n",
       "       '2020-Q4', '2021-Q1', '2021-Q2', '2021-Q3', '2021-Q4', '2022-Q1',\n",
       "       '2022-Q2', '2022-Q3', '2022-Q4', '2023-Q1'],\n",
       "      dtype='object', length=151)"
      ]
     },
     "execution_count": 3,
     "metadata": {},
     "output_type": "execute_result"
    }
   ],
   "source": [
    "df.columns"
   ]
  },
  {
   "cell_type": "code",
   "execution_count": null,
   "metadata": {},
   "outputs": [],
   "source": [
    "# Immediate borrower basis\n",
    "set(df['CBS reporting basis'])"
   ]
  }
 ],
 "metadata": {
  "kernelspec": {
   "display_name": "Python 3",
   "language": "python",
   "name": "python3"
  },
  "language_info": {
   "codemirror_mode": {
    "name": "ipython",
    "version": 3
   },
   "file_extension": ".py",
   "mimetype": "text/x-python",
   "name": "python",
   "nbconvert_exporter": "python",
   "pygments_lexer": "ipython3",
   "version": "3.11.9"
  }
 },
 "nbformat": 4,
 "nbformat_minor": 2
}
