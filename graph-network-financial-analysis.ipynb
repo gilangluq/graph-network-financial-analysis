{
 "cells": [
  {
   "cell_type": "code",
   "execution_count": null,
   "metadata": {
    "vscode": {
     "languageId": "plaintext"
    }
   },
   "outputs": [],
   "source": [
    "##########################################\n",
    "# General helper functions and libraries #\n",
    "##########################################\n",
    "\n",
    "# General data libs\n",
    "import pandas as pd\n",
    "import numpy as np\n",
    "\n",
    "# General plotting libs\n",
    "import matplotlib.pyplot as plt\n",
    "import matplotlib.cm as cm\n",
    "from matplotlib import animation\n",
    "import plotly.express as px\n",
    "import seaborn as sns\n",
    "\n",
    "####################\n",
    "# Modeling process #\n",
    "####################\n",
    "\n",
    "# Networks\n",
    "import networkx as nx\n",
    "from pyvis.network import Network\n",
    "from community import community_louvain"
   ]
  }
 ],
 "metadata": {
  "language_info": {
   "name": "python"
  }
 },
 "nbformat": 4,
 "nbformat_minor": 2
}
